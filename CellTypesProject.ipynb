{
 "cells": [
  {
   "cell_type": "markdown",
   "metadata": {},
   "source": [
    "# Cell Types Project\n",
    "*Replace this with the name of your project*"
   ]
  },
  {
   "cell_type": "markdown",
   "metadata": {},
   "source": [
    "## Team Member Names & Contributions\n",
    "- **Chloe Nguyen (A16794414)**: Responsible for data wrangling, figure plotting\n",
    "- **Amber Selstad (A16898643)**: "
   ]
  },
  {
   "cell_type": "markdown",
   "metadata": {},
   "source": [
    "## Abstract"
   ]
  },
  {
   "cell_type": "markdown",
   "metadata": {},
   "source": [
    "*Fill in your 3-4 sentence abstract here*"
   ]
  },
  {
   "cell_type": "markdown",
   "metadata": {},
   "source": [
    "## Research Question"
   ]
  },
  {
   "cell_type": "markdown",
   "metadata": {},
   "source": [
    "*Fill in your research question here*"
   ]
  },
  {
   "cell_type": "markdown",
   "metadata": {},
   "source": [
    "# Background and Prior Work"
   ]
  },
  {
   "cell_type": "markdown",
   "metadata": {},
   "source": [
    "*Fill in your background and prior work here (~500 words). You are welcome to use additional subheadings. You should also include a paragraph describing each dataset and how you'll be using them.* \n",
    "\n",
    "### References (include links):\n",
    "(1)\n",
    "\n",
    "(2)"
   ]
  },
  {
   "cell_type": "markdown",
   "metadata": {},
   "source": [
    "## Hypothesis\n"
   ]
  },
  {
   "cell_type": "markdown",
   "metadata": {},
   "source": [
    "*Fill in your hypotheses here*"
   ]
  },
  {
   "cell_type": "markdown",
   "metadata": {},
   "source": [
    "## Setup\n",
    "*Are there packages that need to be imported, or datasets that need to be downloaded?*"
   ]
  },
  {
   "cell_type": "code",
   "execution_count": 2,
   "metadata": {},
   "outputs": [],
   "source": [
    "## This code imports packages essential for downstream data wrangling, analysis, manipulation, etc. Figures are plotted within the Jupyter notebook\n",
    "import numpy as np\n",
    "import pandas as pd\n",
    "import matplotlib as mpl\n",
    "import matplotlib.pyplot as plt\n",
    "%matplotlib inline\n",
    "from scipy import stats"
   ]
  },
  {
   "cell_type": "markdown",
   "metadata": {},
   "source": [
    "## Data Wrangling"
   ]
  },
  {
   "cell_type": "markdown",
   "metadata": {},
   "source": [
    "Describe your data wrangling steps here."
   ]
  },
  {
   "cell_type": "markdown",
   "metadata": {},
   "source": [
    "Both datasets of interest for our project come from the Allen Brain Institute, specifically the Allen Cell Types website (https://celltypes.brain-map.org/data) and the Allen RNA-seq website (https://celltypes.brain-map.org/data). The Cell Types website provides an extensive database of electrophysiological and morphogical features of both human and mouse cells, which we will utilize to filter for the samples needed to answer our research question: __________ . \n",
    "\n",
    "The Allen Software Development Kit (AllenSDK) is a core package that facilitates reading and processing Allen Brain Institute data like the Cell Types one. Once AllenSDK is installed, the 'CellTypesCache' module can extract and access the Cell Types database within a Python environment, while the 'CellTypesApi' module then enables us to query the database. After initalizing the cache to ctc, we can then begininng filtering this data.\n",
    "\n",
    "Additionally, the Allen RNA-Seq data page provides transcriptomic information of "
   ]
  },
  {
   "cell_type": "code",
   "execution_count": 6,
   "metadata": {},
   "outputs": [
    {
     "data": {
      "text/html": [
       "<div>\n",
       "<style scoped>\n",
       "    .dataframe tbody tr th:only-of-type {\n",
       "        vertical-align: middle;\n",
       "    }\n",
       "\n",
       "    .dataframe tbody tr th {\n",
       "        vertical-align: top;\n",
       "    }\n",
       "\n",
       "    .dataframe thead th {\n",
       "        text-align: right;\n",
       "    }\n",
       "</style>\n",
       "<table border=\"1\" class=\"dataframe\">\n",
       "  <thead>\n",
       "    <tr style=\"text-align: right;\">\n",
       "      <th></th>\n",
       "      <th>reporter_status</th>\n",
       "      <th>cell_soma_location</th>\n",
       "      <th>species</th>\n",
       "      <th>name</th>\n",
       "      <th>structure_layer_name</th>\n",
       "      <th>structure_area_id</th>\n",
       "      <th>structure_area_abbrev</th>\n",
       "      <th>transgenic_line</th>\n",
       "      <th>dendrite_type</th>\n",
       "      <th>apical</th>\n",
       "      <th>reconstruction_type</th>\n",
       "      <th>disease_state</th>\n",
       "      <th>donor_id</th>\n",
       "      <th>structure_hemisphere</th>\n",
       "      <th>normalized_depth</th>\n",
       "    </tr>\n",
       "    <tr>\n",
       "      <th>id</th>\n",
       "      <th></th>\n",
       "      <th></th>\n",
       "      <th></th>\n",
       "      <th></th>\n",
       "      <th></th>\n",
       "      <th></th>\n",
       "      <th></th>\n",
       "      <th></th>\n",
       "      <th></th>\n",
       "      <th></th>\n",
       "      <th></th>\n",
       "      <th></th>\n",
       "      <th></th>\n",
       "      <th></th>\n",
       "      <th></th>\n",
       "    </tr>\n",
       "  </thead>\n",
       "  <tbody>\n",
       "    <tr>\n",
       "      <th>565871768</th>\n",
       "      <td>positive</td>\n",
       "      <td>[8966.56330957526, 1429.52689052075, 8567.3896...</td>\n",
       "      <td>Mus musculus</td>\n",
       "      <td>Oxtr-2A-Cre;Ai14-293837.03.01.02</td>\n",
       "      <td>5</td>\n",
       "      <td>385</td>\n",
       "      <td>VISp</td>\n",
       "      <td>Oxtr-T2A-Cre</td>\n",
       "      <td>aspiny</td>\n",
       "      <td>NA</td>\n",
       "      <td>None</td>\n",
       "      <td></td>\n",
       "      <td>563340157</td>\n",
       "      <td>left</td>\n",
       "      <td>0.582057</td>\n",
       "    </tr>\n",
       "    <tr>\n",
       "      <th>469801138</th>\n",
       "      <td>positive</td>\n",
       "      <td>[7872.53138541818, 993.212032389272, 3127.1530...</td>\n",
       "      <td>Mus musculus</td>\n",
       "      <td>Pvalb-IRES-Cre;Ai14-170927.05.02.01</td>\n",
       "      <td>4</td>\n",
       "      <td>385</td>\n",
       "      <td>VISp</td>\n",
       "      <td>Pvalb-IRES-Cre</td>\n",
       "      <td>aspiny</td>\n",
       "      <td>NA</td>\n",
       "      <td>None</td>\n",
       "      <td></td>\n",
       "      <td>319194354</td>\n",
       "      <td>right</td>\n",
       "      <td>0.469578</td>\n",
       "    </tr>\n",
       "    <tr>\n",
       "      <th>605889373</th>\n",
       "      <td>positive</td>\n",
       "      <td>[9400.0, 1520.74232706376, 2188.13845194139]</td>\n",
       "      <td>Mus musculus</td>\n",
       "      <td>Vipr2-IRES2-Cre;Slc32a1-T2A-FlpO;Ai65-337419.0...</td>\n",
       "      <td>2/3</td>\n",
       "      <td>385</td>\n",
       "      <td>VISp</td>\n",
       "      <td>Slc32a1-T2A-FlpO|Vipr2-IRES2-Cre</td>\n",
       "      <td>aspiny</td>\n",
       "      <td>NA</td>\n",
       "      <td>None</td>\n",
       "      <td></td>\n",
       "      <td>605622695</td>\n",
       "      <td>right</td>\n",
       "      <td>NaN</td>\n",
       "    </tr>\n",
       "    <tr>\n",
       "      <th>485909730</th>\n",
       "      <td>positive</td>\n",
       "      <td>[8881.0, 953.839501299405, 7768.22695782726]</td>\n",
       "      <td>Mus musculus</td>\n",
       "      <td>Cux2-CreERT2;Ai14-205530.03.02.01</td>\n",
       "      <td>5</td>\n",
       "      <td>385</td>\n",
       "      <td>VISp</td>\n",
       "      <td>Cux2-CreERT2</td>\n",
       "      <td>spiny</td>\n",
       "      <td>intact</td>\n",
       "      <td>dendrite-only</td>\n",
       "      <td></td>\n",
       "      <td>485250100</td>\n",
       "      <td>right</td>\n",
       "      <td>0.478344</td>\n",
       "    </tr>\n",
       "    <tr>\n",
       "      <th>323865917</th>\n",
       "      <td>positive</td>\n",
       "      <td>[8125.0, 904.841803028986, 7819.69986630448]</td>\n",
       "      <td>Mus musculus</td>\n",
       "      <td>Scnn1a-Tg3-Cre;Ai14-172530.06.01.01</td>\n",
       "      <td>5</td>\n",
       "      <td>385</td>\n",
       "      <td>VISp</td>\n",
       "      <td>Scnn1a-Tg3-Cre</td>\n",
       "      <td>spiny</td>\n",
       "      <td>intact</td>\n",
       "      <td>dendrite-only</td>\n",
       "      <td></td>\n",
       "      <td>322489588</td>\n",
       "      <td>left</td>\n",
       "      <td>0.608590</td>\n",
       "    </tr>\n",
       "  </tbody>\n",
       "</table>\n",
       "</div>"
      ],
      "text/plain": [
       "          reporter_status                                 cell_soma_location  \\\n",
       "id                                                                             \n",
       "565871768        positive  [8966.56330957526, 1429.52689052075, 8567.3896...   \n",
       "469801138        positive  [7872.53138541818, 993.212032389272, 3127.1530...   \n",
       "605889373        positive       [9400.0, 1520.74232706376, 2188.13845194139]   \n",
       "485909730        positive       [8881.0, 953.839501299405, 7768.22695782726]   \n",
       "323865917        positive       [8125.0, 904.841803028986, 7819.69986630448]   \n",
       "\n",
       "                species                                               name  \\\n",
       "id                                                                           \n",
       "565871768  Mus musculus                   Oxtr-2A-Cre;Ai14-293837.03.01.02   \n",
       "469801138  Mus musculus                Pvalb-IRES-Cre;Ai14-170927.05.02.01   \n",
       "605889373  Mus musculus  Vipr2-IRES2-Cre;Slc32a1-T2A-FlpO;Ai65-337419.0...   \n",
       "485909730  Mus musculus                  Cux2-CreERT2;Ai14-205530.03.02.01   \n",
       "323865917  Mus musculus                Scnn1a-Tg3-Cre;Ai14-172530.06.01.01   \n",
       "\n",
       "          structure_layer_name  structure_area_id structure_area_abbrev  \\\n",
       "id                                                                        \n",
       "565871768                    5                385                  VISp   \n",
       "469801138                    4                385                  VISp   \n",
       "605889373                  2/3                385                  VISp   \n",
       "485909730                    5                385                  VISp   \n",
       "323865917                    5                385                  VISp   \n",
       "\n",
       "                            transgenic_line dendrite_type  apical  \\\n",
       "id                                                                  \n",
       "565871768                      Oxtr-T2A-Cre        aspiny      NA   \n",
       "469801138                    Pvalb-IRES-Cre        aspiny      NA   \n",
       "605889373  Slc32a1-T2A-FlpO|Vipr2-IRES2-Cre        aspiny      NA   \n",
       "485909730                      Cux2-CreERT2         spiny  intact   \n",
       "323865917                    Scnn1a-Tg3-Cre         spiny  intact   \n",
       "\n",
       "          reconstruction_type disease_state   donor_id structure_hemisphere  \\\n",
       "id                                                                            \n",
       "565871768                None                563340157                 left   \n",
       "469801138                None                319194354                right   \n",
       "605889373                None                605622695                right   \n",
       "485909730       dendrite-only                485250100                right   \n",
       "323865917       dendrite-only                322489588                 left   \n",
       "\n",
       "           normalized_depth  \n",
       "id                           \n",
       "565871768          0.582057  \n",
       "469801138          0.469578  \n",
       "605889373               NaN  \n",
       "485909730          0.478344  \n",
       "323865917          0.608590  "
      ]
     },
     "execution_count": 6,
     "metadata": {},
     "output_type": "execute_result"
    }
   ],
   "source": [
    "# Importing the Allen Cell Types database into Python\n",
    "from allensdk.core.cell_types_cache import CellTypesCache\n",
    "from allensdk.api.queries.cell_types_api import CellTypesApi\n",
    "ctc = CellTypesCache(manifest_file='cell_types/manifest.json')\n",
    "\n",
    "# Creating a dataframe with only mouse cells\n",
    "mouse_cells = ctc.get_cells(species=[CellTypesApi.MOUSE])\n",
    "mouse_df = pd.DataFrame(mouse_cells)\n",
    "\n",
    "# Setting the index to the specimen id instead of arbitrary index values\n",
    "mouse_df = mouse_df.set_index('id') \n",
    "mouse_df.head(5) # Showcasing the first 5 rows of this dataframe"
   ]
  },
  {
   "cell_type": "code",
   "execution_count": null,
   "metadata": {},
   "outputs": [],
   "source": [
    "# Filtering the data even further to only obtain the cells within ___\n"
   ]
  },
  {
   "cell_type": "markdown",
   "metadata": {},
   "source": [
    "## Data Analysis & Results"
   ]
  },
  {
   "cell_type": "markdown",
   "metadata": {},
   "source": [
    "Include cells that describe the steps in your data analysis."
   ]
  },
  {
   "cell_type": "code",
   "execution_count": 5,
   "metadata": {},
   "outputs": [],
   "source": [
    "## YOUR CODE HERE\n",
    "## FEEL FREE TO ADD MULTIPLE CELLS PER SECTION"
   ]
  },
  {
   "cell_type": "markdown",
   "metadata": {},
   "source": [
    "## Conclusion & Discussion"
   ]
  },
  {
   "cell_type": "markdown",
   "metadata": {},
   "source": [
    "*Fill in your discussion information here*"
   ]
  }
 ],
 "metadata": {
  "kernelspec": {
   "display_name": "Python 3 (ipykernel)",
   "language": "python",
   "name": "python3"
  },
  "language_info": {
   "codemirror_mode": {
    "name": "ipython",
    "version": 3
   },
   "file_extension": ".py",
   "mimetype": "text/x-python",
   "name": "python",
   "nbconvert_exporter": "python",
   "pygments_lexer": "ipython3",
   "version": "3.11.9"
  }
 },
 "nbformat": 4,
 "nbformat_minor": 4
}
